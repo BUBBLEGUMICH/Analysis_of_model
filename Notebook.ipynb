{
 "cells": [
  {
   "cell_type": "code",
   "execution_count": null,
   "metadata": {},
   "outputs": [],
   "source": [
    "'''\n",
    "    Create an environment and use requirements.txt to download packages yourself, \n",
    "    or\n",
    "    uncomment this section, but you will need the administration rules\n",
    "    :3(sry)\n",
    "    \n",
    "'''\n",
    "\n",
    "# !python3 -m venv .vir\n",
    "# !.vir/Scripts/activate\n",
    "# !pip install -r requirements.txt"
   ]
  },
  {
   "cell_type": "code",
   "execution_count": null,
   "metadata": {},
   "outputs": [],
   "source": [
    "import pandas as pd\n",
    "import os\n",
    "import matplotlib.pyplot as plt\n",
    "import numpy as np\n",
    "import seaborn\n",
    "from IPython.display import display, Image\n",
    "import requests"
   ]
  },
  {
   "cell_type": "code",
   "execution_count": null,
   "metadata": {},
   "outputs": [],
   "source": [
    "from drawing_plots import Plotter\n",
    "URL = 'https://ai-process-sandy.s3.eu-west-1.amazonaws.com/purge/deviation.json'\n",
    "\n",
    "\n",
    "def draw_plots(url):\n",
    "    df = pd.read_json(url)\n",
    "    plotter = Plotter()\n",
    "    paths = plotter.draw_plots(df)\n",
    "    return paths\n"
   ]
  },
  {
   "cell_type": "code",
   "execution_count": null,
   "metadata": {},
   "outputs": [],
   "source": [
    "paths = draw_plots(url=URL)\n",
    "for path in paths:\n",
    "        img = Image(filename=path)\n"
   ]
  }
 ],
 "metadata": {
  "kernelspec": {
   "display_name": "Python 3",
   "language": "python",
   "name": "python3"
  },
  "language_info": {
   "codemirror_mode": {
    "name": "ipython",
    "version": 3
   },
   "file_extension": ".py",
   "mimetype": "text/x-python",
   "name": "python",
   "nbconvert_exporter": "python",
   "pygments_lexer": "ipython3",
   "version": "3.10.11"
  }
 },
 "nbformat": 4,
 "nbformat_minor": 2
}
